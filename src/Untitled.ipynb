{
 "cells": [
  {
   "cell_type": "code",
   "execution_count": 12,
   "metadata": {},
   "outputs": [
    {
     "data": {
      "image/png": "[encoded data removed]",
      "text/plain": [
       "<matplotlib.figure.Figure at 0x9f28fb0c>"
      ]
     },
     "metadata": {},
     "output_type": "display_data"
    }
   ],
   "source": [
    "import pandas as pd\n",
    "import seaborn as sns\n",
    "import matplotlib.pyplot as plt\n",
    "from matplotlib import cm\n",
    "from matplotlib.ticker import LinearLocator, FormatStrFormatter\n",
    "from mpl_toolkits.mplot3d import Axes3D\n",
    "import numpy as np\n",
    "import random\n",
    "import math\n",
    "import matplotlib as mpl\n",
    "\n",
    "\n",
    "#df = pd.read_csv('2.csv', ',')\n",
    "df2 = pd.read_csv('2b.csv', ',')\n",
    "\n",
    "#df.tiempo=df.tiempo/df.mov\n",
    "df2.tiempo=df2.tiempo/df2.mov\n",
    "\n",
    "#df.plot.scatter(x='mov', y='tiempo', color='Yellow', logx=True, label='N,M<11')\n",
    "df2.plot.scatter(x='mov', y='tiempo', color='Blue', logx=True, label='N,M<21')\n",
    "\n",
    "plt.ylabel('Tiempo/Complejidad Esperada')\n",
    "plt.xlabel('Complejidad Esperada')\n",
    "#plt.ylim(-0.00025,0.00025)\n",
    "\n",
    "\n",
    "plt.show()\n"
   ]
  },
  {
   "cell_type": "code",
   "execution_count": null,
   "metadata": {
    "collapsed": true
   },
   "outputs": [],
   "source": []
  },
  {
   "cell_type": "code",
   "execution_count": null,
   "metadata": {
    "collapsed": true
   },
   "outputs": [],
   "source": []
  }
 ],
 "metadata": {
  "kernelspec": {
   "display_name": "Python 2",
   "language": "python",
   "name": "python2"
  },
  "language_info": {
   "codemirror_mode": {
    "name": "ipython",
    "version": 2
   },
   "file_extension": ".py",
   "mimetype": "text/x-python",
   "name": "python",
   "nbconvert_exporter": "python",
   "pygments_lexer": "ipython2",
   "version": "2.7.12"
  }
 },
 "nbformat": 4,
 "nbformat_minor": 2
}
