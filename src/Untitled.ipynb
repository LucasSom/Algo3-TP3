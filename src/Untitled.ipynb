{
 "cells": [
  {
   "cell_type": "code",
   "execution_count": 8,
   "metadata": {},
   "outputs": [
    {
     "data": {
      "image/png": "[encoded data removed]",
      "text/plain": [
       "<matplotlib.figure.Figure at 0xa844a3ac>"
      ]
     },
     "metadata": {},
     "output_type": "display_data"
    }
   ],
   "source": [
    "import pandas as pd\n",
    "import seaborn as sns\n",
    "import matplotlib.pyplot as plt\n",
    "\n",
    "import numpy as np\n",
    "import random\n",
    "import math\n",
    "import matplotlib as mpl\n",
    "\n",
    "import io\n",
    "import sys  \n",
    "\n",
    "reload(sys)  \n",
    "sys.setdefaultencoding('utf8')\n",
    "\n",
    "#df = pd.read_csv('2.csv', ',')\n",
    "df2 = pd.read_csv('3b1seleccion1crossover0.0001.csv')\n",
    "print(df2)\n",
    "#df.tiempo=df.tiempo/df.mov\n",
    "\n",
    "#df.plot.scatter(x='mov', y='tiempo', color='Yellow', logx=True, label='N,M<11')\n",
    "ax = df2.plot(x='generacion', y='mejor', color='Green',  label='Mejor',title='pcrossover=0.00001')\n",
    "df2.plot(x='generacion', y='peor', color='Red', ax=ax, label='Peor')\n",
    "df2.plot(x='generacion', y='promedio', color='Blue', ax=ax, label='Promedio')\n",
    "df2.plot(x='generacion', y='media', color='Yellow', ax=ax, label='Media')\n",
    "\n",
    "plt.ylabel('Fitness')\n",
    "plt.xlabel('Generacion')\n",
    "plt.xlim(0,10)\n",
    "\n",
    "\n",
    "plt.show()\n",
    "df2 = pd.read_csv('3b1seleccion1crossoverB0.0001.csv')\n",
    "print(df2)\n",
    "#df.tiempo=df.tiempo/df.mov\n",
    "\n",
    "#df.plot.scatter(x='mov', y='tiempo', color='Yellow', logx=True, label='N,M<11')\n",
    "ax = df2.plot(x='generacion', y='mejor', color='Green',  label='Mejor',title='pcrossover=0.00001')\n",
    "df2.plot(x='generacion', y='peor', color='Red', ax=ax, label='Peor')\n",
    "df2.plot(x='generacion', y='promedio', color='Blue', ax=ax, label='Promedio')\n",
    "df2.plot(x='generacion', y='media', color='Yellow', ax=ax, label='Media')\n",
    "\n",
    "plt.ylabel('Fitness')\n",
    "plt.xlabel('Generacion')\n",
    "plt.xlim(0,10)\n",
    "\n",
    "\n",
    "plt.show()\n",
    "df2 = pd.read_csv('3b1seleccion1crossoverB0.01.csv')\n",
    "print(df2)\n",
    "#df.tiempo=df.tiempo/df.mov\n",
    "\n",
    "#df.plot.scatter(x='mov', y='tiempo', color='Yellow', logx=True, label='N,M<11')\n",
    "ax = df2.plot(x='generacion', y='mejor', color='Green',  label='Mejor',title='pcrossover=0.01')\n",
    "df2.plot(x='generacion', y='peor', color='Red', ax=ax, label='Peor')\n",
    "df2.plot(x='generacion', y='promedio', color='Blue', ax=ax, label='Promedio')\n",
    "df2.plot(x='generacion', y='media', color='Yellow', ax=ax, label='Media')\n",
    "\n",
    "plt.ylabel('Fitness')\n",
    "plt.xlabel('Generacion')\n",
    "plt.xlim(0,10)\n",
    "\n",
    "\n",
    "plt.show()\n",
    "df2 = pd.read_csv('3b1seleccion1crossoverB0.1.csv')\n",
    "print(df2)\n",
    "#df.tiempo=df.tiempo/df.mov\n",
    "\n",
    "#df.plot.scatter(x='mov', y='tiempo', color='Yellow', logx=True, label='N,M<11')\n",
    "ax = df2.plot(x='generacion', y='mejor', color='Green',  label='Mejor',title='pcrossover=0.1')\n",
    "df2.plot(x='generacion', y='peor', color='Red', ax=ax, label='Peor')\n",
    "df2.plot(x='generacion', y='promedio', color='Blue', ax=ax, label='Promedio')\n",
    "df2.plot(x='generacion', y='media', color='Yellow', ax=ax, label='Media')\n",
    "\n",
    "plt.ylabel('Fitness')\n",
    "plt.xlabel('Generacion')\n",
    "plt.xlim(0,10)\n",
    "\n",
    "\n",
    "plt.show()\n",
    "df2 = pd.read_csv('3b1seleccion1crossoverB0.4.csv')\n",
    "print(df2)\n",
    "#df.tiempo=df.tiempo/df.mov\n",
    "\n",
    "#df.plot.scatter(x='mov', y='tiempo', color='Yellow', logx=True, label='N,M<11')\n",
    "ax = df2.plot(x='generacion', y='mejor', color='Green',  label='Mejor',title='pcrossover=0.4')\n",
    "df2.plot(x='generacion', y='peor', color='Red', ax=ax, label='Peor')\n",
    "df2.plot(x='generacion', y='promedio', color='Blue', ax=ax, label='Promedio')\n",
    "df2.plot(x='generacion', y='media', color='Yellow', ax=ax, label='Media')\n",
    "\n",
    "plt.ylabel('Fitness')\n",
    "plt.xlabel('Generacion')\n",
    "plt.xlim(0,10)\n",
    "\n",
    "\n",
    "plt.show()\n",
    "\n"
   ]
  },
  {
   "cell_type": "code",
   "execution_count": null,
   "metadata": {
    "collapsed": true
   },
   "outputs": [],
   "source": []
  },
  {
   "cell_type": "code",
   "execution_count": null,
   "metadata": {
    "collapsed": true
   },
   "outputs": [],
   "source": []
  }
 ],
 "metadata": {
  "kernelspec": {
   "display_name": "Python 2",
   "language": "python",
   "name": "python2"
  },
  "language_info": {
   "codemirror_mode": {
    "name": "ipython",
    "version": 2
   },
   "file_extension": ".py",
   "mimetype": "text/x-python",
   "name": "python",
   "nbconvert_exporter": "python",
   "pygments_lexer": "ipython2",
   "version": "2.7.12"
  }
 },
 "nbformat": 4,
 "nbformat_minor": 2
}
